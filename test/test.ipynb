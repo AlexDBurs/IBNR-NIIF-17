{
 "cells": [
  {
   "cell_type": "code",
   "execution_count": 8,
   "id": "57fbcc63",
   "metadata": {},
   "outputs": [],
   "source": [
    "import pandas as pd\n",
    "import numpy as np\n",
    "import datetime as dt\n",
    "import itertools\n",
    "import warnings\n",
    "import chainladder as cl # Sparse=0.14.0 ; incremental.py np.NINF -> -np.inf\n",
    "import matplotlib.pyplot as plt\n",
    "warnings.filterwarnings('ignore')"
   ]
  },
  {
   "cell_type": "code",
   "execution_count": 14,
   "id": "f0c9719e",
   "metadata": {},
   "outputs": [],
   "source": [
    "def claims_formatter(doc:pd.DataFrame):\n",
    "    doc_copy = doc.copy()\n",
    "    #Acomodo indice\n",
    "    doc_copy.index = doc_copy.AUTOMOTORES\n",
    "    formatted_doc = doc_copy.iloc[:,4:].stack(level = [0,1,2,3]).reset_index([1,2,3,4]).drop_duplicates()\n",
    "    formatted_doc.reset_index(inplace = True)\n",
    "    formatted_doc[['Base Origen', 'Ramo', 'Codigo 1', 'Codigo 2']] = pd.DataFrame(formatted_doc[('index','')].to_list(), index = formatted_doc.index)\n",
    "\n",
    "    #Acomodo columnas\n",
    "    formatted_doc.columns = ['indice','Tipo', 'Periodo', 'Desarrollo 1', 'Año Valuacion', 'Pendientes', 'Pagados', 'Incurridos', 'Cantidad', 'Base Origen', 'Ramo', 'Codigo 1', 'Codigo 2']\n",
    "    formatted_doc['Año Ocurrencia'] = pd.to_datetime(formatted_doc['Periodo'][0][0:5]) + pd.DateOffset(months = 6)\n",
    "    formatted_doc['Año Valuacion'] = pd.to_datetime(formatted_doc['Año Valuacion'])\n",
    "    #formatted_doc['Desarrollo'] = formatted_doc['Año Valuacion'] - formatted_doc['Año Ocurrencia']\n",
    "    formatted_doc.drop(['indice','Tipo', 'Periodo', 'Desarrollo 1'], axis = 1, inplace = True)\n",
    "\n",
    "    return formatted_doc\n",
    "\n",
    "def check_chainladdes_assumptions( triangle:cl.Triangle, columns:list, ramos:list=None):\n",
    "    if ramos == None:\n",
    "        for column in columns:\n",
    "            if triangle[column].sum().valuation_correlation(p_critical=0.1, total=True).z_critical.values == True:\n",
    "                print(f'Triangulo {column}: Años de valuación correlacionados')\n",
    "            elif triangle[column].sum().development_correlation(p_critical=0.1).t_critical.values == False:\n",
    "                print(f'Triangulo {column}: Años de desarrollo no correlacionados')\n",
    "        return 0\n",
    "    else:\n",
    "        for ramo in ramos:\n",
    "            for column in columns:\n",
    "                if triangle.loc[triangle['Ramo']==ramo, column].sum().valuation_correlation(p_critical=0.1, total=True).z_critical.values == True:\n",
    "                    print(f'Triangulo {column}: Años de valuación correlacionados')\n",
    "                elif triangle.loc[triangle['Ramo']==ramo, column].sum().development_correlation(p_critical=0.1).t_critical.values == False:\n",
    "                    print(f'Triangulo {column}: Años de desarrollo no correlacionados')\n",
    "            return 0\n",
    "            "
   ]
  },
  {
   "cell_type": "code",
   "execution_count": 11,
   "id": "2f127f57",
   "metadata": {},
   "outputs": [],
   "source": [
    "sto_input = pd.read_excel('..\\\\sample\\\\ssn_20232024_desarrollo_siniestros_automotores.xlsx', sheet_name = None, header=[0,1,2,3,4,5])\n",
    "facpce_input = pd.read_excel('..\\\\sample\\\\Indice-FACPCE-Res.-JG-539-18-_2025-07-1.xlsx', skiprows = 2, skipfooter=4)\n",
    "\n",
    "#Tratamiendo desarrollo de stos\n",
    "#sto_input = dict(itertools.islice(sto_input.items(), 3, len(sto_input)))\n",
    "sto_input_formateado = [claims_formatter(sto_input[k]) for k in sto_input.keys() if k[0] == '2']\n",
    "db_stos = pd.concat(sto_input_formateado)\n",
    "\n",
    "#Tratamiento indice facpce\n",
    "db_facpce = facpce_input.set_index('MES')\n",
    "factores_facpce = db_facpce.loc[max(db_stos['Año Valuacion']) - pd.DateOffset(days = 29)] / db_facpce.loc[db_stos['Año Valuacion'] - pd.DateOffset(months = 5, days = 29)] # Asumo que esta todo valuado a mitad de periodo.\n",
    "db_stos['Factor FACPSE'] = factores_facpce.set_index(db_stos.index)"
   ]
  },
  {
   "cell_type": "code",
   "execution_count": 16,
   "id": "559790b7",
   "metadata": {},
   "outputs": [
    {
     "data": {
      "text/plain": [
       "0"
      ]
     },
     "execution_count": 16,
     "metadata": {},
     "output_type": "execute_result"
    }
   ],
   "source": [
    "#Armo el dataframe para el triángulo que quiero analizar \n",
    "idx = (db_stos['Base Origen'] == '[HG]')  &  (db_stos['Ramo'] == 'RC')\n",
    "db_triangle = db_stos.loc[idx, ['Año Ocurrencia', 'Año Valuacion', 'Pendientes','Pagados' , 'Incurridos', 'Factor FACPSE']]\n",
    "db_triangle['Año Valuacion'] = db_triangle['Año Valuacion'] + pd.DateOffset(months = -6)\n",
    "db_triangle['Año Ocurrencia'] = db_triangle['Año Ocurrencia'] + pd.DateOffset(months = -6)\n",
    "\n",
    "#Chequeo supuestos para Cl y aplico el factor FACPCE\n",
    "triang_stos = cl.Triangle(db_triangle, origin = 'Año Ocurrencia', development= 'Año Valuacion', columns = ['Pagados', 'Pendientes', 'Incurridos'], cumulative = True)\n",
    "triang_facpce = cl.Triangle(db_triangle, origin = 'Año Ocurrencia', development= 'Año Valuacion', columns = 'Factor FACPSE', cumulative = True)\n",
    "triang_stos_act = triang_stos.cum_to_incr() * triang_facpce\n",
    "check_chainladdes_assumptions(triang_stos_act, ['Pagados', 'Pendientes', 'Incurridos'], ramos = None)"
   ]
  },
  {
   "cell_type": "code",
   "execution_count": null,
   "id": "b6d076a9",
   "metadata": {},
   "outputs": [],
   "source": []
  },
  {
   "cell_type": "code",
   "execution_count": 17,
   "id": "631a7f67",
   "metadata": {},
   "outputs": [],
   "source": [
    "raa = triang_stos_act\n",
    "model = cl.Development().fit(triang_stos_act)\n",
    "#model.std_residuals_"
   ]
  },
  {
   "cell_type": "code",
   "execution_count": 18,
   "id": "0d94af20",
   "metadata": {},
   "outputs": [
    {
     "data": {
      "text/html": [
       "<table border=\"1\" class=\"dataframe\">\n",
       "  <thead>\n",
       "    <tr style=\"text-align: right;\">\n",
       "      <th></th>\n",
       "      <th>12</th>\n",
       "      <th>24</th>\n",
       "      <th>36</th>\n",
       "      <th>48</th>\n",
       "      <th>60</th>\n",
       "      <th>72</th>\n",
       "    </tr>\n",
       "  </thead>\n",
       "  <tbody>\n",
       "    <tr>\n",
       "      <th>2018</th>\n",
       "      <td>710,583,688,912</td>\n",
       "      <td>1,079,948,016,120</td>\n",
       "      <td>1,210,634,929,405</td>\n",
       "      <td>1,305,796,021,755</td>\n",
       "      <td>1,354,715,076,975</td>\n",
       "      <td>1,389,218,747,991</td>\n",
       "    </tr>\n",
       "    <tr>\n",
       "      <th>2019</th>\n",
       "      <td>568,881,611,478</td>\n",
       "      <td>824,256,617,759</td>\n",
       "      <td>922,314,621,414</td>\n",
       "      <td>968,737,242,486</td>\n",
       "      <td>1,002,195,517,255</td>\n",
       "      <td></td>\n",
       "    </tr>\n",
       "    <tr>\n",
       "      <th>2020</th>\n",
       "      <td>532,099,551,028</td>\n",
       "      <td>846,642,591,841</td>\n",
       "      <td>901,118,679,597</td>\n",
       "      <td>937,486,188,701</td>\n",
       "      <td></td>\n",
       "      <td></td>\n",
       "    </tr>\n",
       "    <tr>\n",
       "      <th>2021</th>\n",
       "      <td>626,513,979,226</td>\n",
       "      <td>848,893,918,586</td>\n",
       "      <td>907,970,627,951</td>\n",
       "      <td></td>\n",
       "      <td></td>\n",
       "      <td></td>\n",
       "    </tr>\n",
       "    <tr>\n",
       "      <th>2022</th>\n",
       "      <td>422,521,028,677</td>\n",
       "      <td>569,011,405,399</td>\n",
       "      <td></td>\n",
       "      <td></td>\n",
       "      <td></td>\n",
       "      <td></td>\n",
       "    </tr>\n",
       "    <tr>\n",
       "      <th>2023</th>\n",
       "      <td>378,112,192,419</td>\n",
       "      <td></td>\n",
       "      <td></td>\n",
       "      <td></td>\n",
       "      <td></td>\n",
       "      <td></td>\n",
       "    </tr>\n",
       "  </tbody>\n",
       "</table>"
      ],
      "text/plain": [
       "                12            24            36            48            60            72\n",
       "2018  7.105837e+11  1.079948e+12  1.210635e+12  1.305796e+12  1.354715e+12  1.389219e+12\n",
       "2019  5.688816e+11  8.242566e+11  9.223146e+11  9.687372e+11  1.002196e+12           NaN\n",
       "2020  5.320996e+11  8.466426e+11  9.011187e+11  9.374862e+11           NaN           NaN\n",
       "2021  6.265140e+11  8.488939e+11  9.079706e+11           NaN           NaN           NaN\n",
       "2022  4.225210e+11  5.690114e+11           NaN           NaN           NaN           NaN\n",
       "2023  3.781122e+11           NaN           NaN           NaN           NaN           NaN"
      ]
     },
     "execution_count": 18,
     "metadata": {},
     "output_type": "execute_result"
    }
   ],
   "source": [
    "triang_stos_act['Pagados'].incr_to_cum()"
   ]
  },
  {
   "cell_type": "code",
   "execution_count": 19,
   "id": "060cb3f2",
   "metadata": {},
   "outputs": [
    {
     "data": {
      "text/html": [
       "<style type=\"text/css\">\n",
       "#T_97713_row0_col0 {\n",
       "  background-color: #8db0fe;\n",
       "  color: #000000;\n",
       "}\n",
       "#T_97713_row0_col1, #T_97713_row1_col2, #T_97713_row1_col3, #T_97713_row2_col0 {\n",
       "  background-color: #3b4cc0;\n",
       "  color: #f1f1f1;\n",
       "}\n",
       "#T_97713_row0_col2, #T_97713_row0_col3, #T_97713_row1_col1, #T_97713_row4_col0 {\n",
       "  background-color: #b40426;\n",
       "  color: #f1f1f1;\n",
       "}\n",
       "#T_97713_row0_col4, #T_97713_row1_col0, #T_97713_row1_col4, #T_97713_row2_col2, #T_97713_row2_col3, #T_97713_row2_col4, #T_97713_row3_col2, #T_97713_row3_col3, #T_97713_row3_col4, #T_97713_row4_col1, #T_97713_row4_col2, #T_97713_row4_col3, #T_97713_row4_col4 {\n",
       "  background-color: #dddcdc;\n",
       "  color: #000000;\n",
       "}\n",
       "#T_97713_row2_col1 {\n",
       "  background-color: #f7b89c;\n",
       "  color: #000000;\n",
       "}\n",
       "#T_97713_row3_col0 {\n",
       "  background-color: #f4987a;\n",
       "  color: #000000;\n",
       "}\n",
       "#T_97713_row3_col1 {\n",
       "  background-color: #aac7fd;\n",
       "  color: #000000;\n",
       "}\n",
       "</style>\n",
       "<table id=\"T_97713\">\n",
       "  <thead>\n",
       "    <tr>\n",
       "      <th class=\"blank level0\" >&nbsp;</th>\n",
       "      <th id=\"T_97713_level0_col0\" class=\"col_heading level0 col0\" >12-24</th>\n",
       "      <th id=\"T_97713_level0_col1\" class=\"col_heading level0 col1\" >24-36</th>\n",
       "      <th id=\"T_97713_level0_col2\" class=\"col_heading level0 col2\" >36-48</th>\n",
       "      <th id=\"T_97713_level0_col3\" class=\"col_heading level0 col3\" >48-60</th>\n",
       "      <th id=\"T_97713_level0_col4\" class=\"col_heading level0 col4\" >60-72</th>\n",
       "    </tr>\n",
       "  </thead>\n",
       "  <tbody>\n",
       "    <tr>\n",
       "      <th id=\"T_97713_level0_row0\" class=\"row_heading level0 row0\" >2018</th>\n",
       "      <td id=\"T_97713_row0_col0\" class=\"data row0 col0\" >1.1127</td>\n",
       "      <td id=\"T_97713_row0_col1\" class=\"data row0 col1\" >1.0974</td>\n",
       "      <td id=\"T_97713_row0_col2\" class=\"data row0 col2\" >1.1457</td>\n",
       "      <td id=\"T_97713_row0_col3\" class=\"data row0 col3\" >1.0704</td>\n",
       "      <td id=\"T_97713_row0_col4\" class=\"data row0 col4\" >1.0558</td>\n",
       "    </tr>\n",
       "    <tr>\n",
       "      <th id=\"T_97713_level0_row1\" class=\"row_heading level0 row1\" >2019</th>\n",
       "      <td id=\"T_97713_row1_col0\" class=\"data row1 col0\" >1.1284</td>\n",
       "      <td id=\"T_97713_row1_col1\" class=\"data row1 col1\" >1.2211</td>\n",
       "      <td id=\"T_97713_row1_col2\" class=\"data row1 col2\" >1.0556</td>\n",
       "      <td id=\"T_97713_row1_col3\" class=\"data row1 col3\" >1.0682</td>\n",
       "      <td></td>\n",
       "    </tr>\n",
       "    <tr>\n",
       "      <th id=\"T_97713_level0_row2\" class=\"row_heading level0 row2\" >2020</th>\n",
       "      <td id=\"T_97713_row2_col0\" class=\"data row2 col0\" >1.0408</td>\n",
       "      <td id=\"T_97713_row2_col1\" class=\"data row2 col1\" >1.1696</td>\n",
       "      <td id=\"T_97713_row2_col2\" class=\"data row2 col2\" >1.0726</td>\n",
       "      <td></td>\n",
       "      <td></td>\n",
       "    </tr>\n",
       "    <tr>\n",
       "      <th id=\"T_97713_level0_row3\" class=\"row_heading level0 row3\" >2021</th>\n",
       "      <td id=\"T_97713_row3_col0\" class=\"data row3 col0\" >1.1911</td>\n",
       "      <td id=\"T_97713_row3_col1\" class=\"data row3 col1\" >1.1467</td>\n",
       "      <td></td>\n",
       "      <td></td>\n",
       "      <td></td>\n",
       "    </tr>\n",
       "    <tr>\n",
       "      <th id=\"T_97713_level0_row4\" class=\"row_heading level0 row4\" >2022</th>\n",
       "      <td id=\"T_97713_row4_col0\" class=\"data row4 col0\" >1.2278</td>\n",
       "      <td></td>\n",
       "      <td></td>\n",
       "      <td></td>\n",
       "      <td></td>\n",
       "    </tr>\n",
       "  </tbody>\n",
       "</table>\n"
      ],
      "text/plain": [
       "<IPython.core.display.HTML object>"
      ]
     },
     "execution_count": 19,
     "metadata": {},
     "output_type": "execute_result"
    }
   ],
   "source": [
    "triang_stos_act['Incurridos'].incr_to_cum().link_ratio.heatmap()\n",
    "triang_stos_act['Pagados'].incr_to_cum().link_ratio.heatmap()\n",
    "triang_stos_act['Pendientes'].incr_to_cum().link_ratio.heatmap()"
   ]
  },
  {
   "cell_type": "code",
   "execution_count": 26,
   "id": "c15548ff",
   "metadata": {},
   "outputs": [
    {
     "data": {
      "text/html": [
       "<table border=\"1\" class=\"dataframe\">\n",
       "  <thead>\n",
       "    <tr style=\"text-align: right;\">\n",
       "      <th></th>\n",
       "      <th>12-24</th>\n",
       "      <th>24-36</th>\n",
       "      <th>36-48</th>\n",
       "      <th>48-60</th>\n",
       "      <th>60-72</th>\n",
       "      <th>72-84</th>\n",
       "      <th>84-96</th>\n",
       "    </tr>\n",
       "  </thead>\n",
       "  <tbody>\n",
       "    <tr>\n",
       "      <th>(All)</th>\n",
       "      <td>1.4573</td>\n",
       "      <td>1.0951</td>\n",
       "      <td>1.0587</td>\n",
       "      <td>1.0362</td>\n",
       "      <td>1.0255</td>\n",
       "      <td>1.0099</td>\n",
       "      <td>1.0050</td>\n",
       "    </tr>\n",
       "  </tbody>\n",
       "</table>"
      ],
      "text/plain": [
       "        12-24    24-36     36-48     48-60     60-72     72-84    84-96\n",
       "(All)  1.4573  1.09509  1.058651  1.036217  1.025469  1.009909  1.00505"
      ]
     },
     "execution_count": 26,
     "metadata": {},
     "output_type": "execute_result"
    }
   ],
   "source": [
    "tail = cl.TailCurve(curve='exponential', extrap_periods = 2).fit(triang_stos_act['Pagados'].incr_to_cum())\n",
    "tail.ldf_"
   ]
  },
  {
   "cell_type": "code",
   "execution_count": 29,
   "id": "3635c117",
   "metadata": {},
   "outputs": [
    {
     "data": {
      "text/html": [
       "<table border=\"1\" class=\"dataframe\">\n",
       "  <thead>\n",
       "    <tr style=\"text-align: right;\">\n",
       "      <th></th>\n",
       "      <th>12-24</th>\n",
       "      <th>24-36</th>\n",
       "      <th>36-48</th>\n",
       "      <th>48-60</th>\n",
       "      <th>60-72</th>\n",
       "      <th>72-84</th>\n",
       "      <th>84-96</th>\n",
       "    </tr>\n",
       "  </thead>\n",
       "  <tbody>\n",
       "    <tr>\n",
       "      <th>(All)</th>\n",
       "      <td>1.4523</td>\n",
       "      <td>1.0935</td>\n",
       "      <td>1.0564</td>\n",
       "      <td>1.0360</td>\n",
       "      <td>1.0255</td>\n",
       "      <td>1.0170</td>\n",
       "      <td>1.1178</td>\n",
       "    </tr>\n",
       "  </tbody>\n",
       "</table>"
      ],
      "text/plain": [
       "        12-24     24-36     36-48     48-60     60-72     72-84     84-96\n",
       "(All)  1.4523  1.093478  1.056432  1.036001  1.025469  1.017044  1.117772"
      ]
     },
     "execution_count": 29,
     "metadata": {},
     "output_type": "execute_result"
    }
   ],
   "source": [
    "pipe_dev = cl.Pipeline(steps=[\n",
    "     (\"simple_dev\", cl.Development(average=\"simple\")),\n",
    "    (\"inverse_power_tail\", cl.TailCurve(curve=\"inverse_power\")),\n",
    "    ]).fit(triang_stos_act['Pagados'].incr_to_cum())\n",
    "pipe_dev.named_steps.inverse_power_tail.ldf_"
   ]
  }
 ],
 "metadata": {
  "kernelspec": {
   "display_name": "Python 3",
   "language": "python",
   "name": "python3"
  },
  "language_info": {
   "codemirror_mode": {
    "name": "ipython",
    "version": 3
   },
   "file_extension": ".py",
   "mimetype": "text/x-python",
   "name": "python",
   "nbconvert_exporter": "python",
   "pygments_lexer": "ipython3",
   "version": "3.13.7"
  }
 },
 "nbformat": 4,
 "nbformat_minor": 5
}
